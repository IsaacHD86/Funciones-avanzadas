{
 "cells": [
  {
   "cell_type": "markdown",
   "id": "e337fe26",
   "metadata": {},
   "source": [
    "# PRACTICA"
   ]
  },
  {
   "cell_type": "markdown",
   "id": "1677cf5d",
   "metadata": {},
   "source": [
    "#### Generar un archivo tipo Notebook de Python que contenga el código fuente de varios ejercicios aplicados a los conceptos vistos: \n",
    "#### 1.- Función lambda para obtener la raíz cuadrada de un número.\n",
    "#### 2.- Función map, para obtener el largo de una cadena de palabras. \n",
    "#### Tip! La cadena tiene que ser dividida en palabras antes de empezar. \n",
    "#### 3.- Función reduce, que sirva para calcular el producto de una lista \n",
    "#### 4.- Función filter que sirva para encontrar palabras que contengan mayúsculas o números en un listado \n",
    "#### Por cada ejercicio es necesario realizar el código en Python sin utilizar la función estudiada, y además generar el código utilizando la función estudiada.  Incluir un ejemplo por cada una."
   ]
  },
  {
   "cell_type": "code",
   "execution_count": 6,
   "id": "c1e69ef3",
   "metadata": {},
   "outputs": [
    {
     "name": "stdout",
     "output_type": "stream",
     "text": [
      "La raiz cuadrada del 9 es : 3.0\n"
     ]
    }
   ],
   "source": [
    "# Ejercicio 1 sin Lambda ()\n",
    "\n",
    "numero = 9\n",
    "obtener_raiz = numero ** 0.5\n",
    "print(f'La raiz cuadrada del {numero} es : {obtener_raiz}')"
   ]
  },
  {
   "cell_type": "code",
   "execution_count": 11,
   "id": "000ec59c",
   "metadata": {},
   "outputs": [
    {
     "name": "stdout",
     "output_type": "stream",
     "text": [
      "3.0\n"
     ]
    }
   ],
   "source": [
    "# Ejercicio 1 con lambda()\n",
    "\n",
    "x= lambda raiz: raiz ** 0.5\n",
    "print(x(9))"
   ]
  },
  {
   "cell_type": "code",
   "execution_count": 14,
   "id": "a1ef8bb9",
   "metadata": {},
   "outputs": [
    {
     "name": "stdout",
     "output_type": "stream",
     "text": [
      "La frase se divide en : 6\n"
     ]
    }
   ],
   "source": [
    "# ejercicios sin map()\n",
    "\n",
    "frase = \"Ejercicios del modulo 11 de EBAC\"\n",
    "div_palabra = frase.split()  # Dividimos la cadena en palabras\n",
    "largo = len(div_palabra)  # Encuentra la longitud de la lista de palabras\n",
    "\n",
    "print(\"La frase se divide en :\", largo)\n"
   ]
  },
  {
   "cell_type": "code",
   "execution_count": 17,
   "id": "e7300cd2",
   "metadata": {},
   "outputs": [
    {
     "name": "stdout",
     "output_type": "stream",
     "text": [
      "La frase se divide en : [6]\n"
     ]
    }
   ],
   "source": [
    "# ejercicio con map()\n",
    "\n",
    "def large(frase):\n",
    "    div_palabra = frase.split()\n",
    "    return len(div_palabra)\n",
    "\n",
    "frase = ['Ejercicios del modulo 11 de EBAC']\n",
    "largo = list(map(large, frase))\n",
    "print('La frase se divide en :',largo)"
   ]
  },
  {
   "cell_type": "code",
   "execution_count": 36,
   "id": "01f2c031",
   "metadata": {},
   "outputs": [
    {
     "name": "stdout",
     "output_type": "stream",
     "text": [
      "560\n"
     ]
    }
   ],
   "source": [
    "# ejercicio sin reduce()\n",
    "\n",
    "lista_nums = [5,2,7,8]\n",
    "\n",
    "total = 1\n",
    "\n",
    "for numero in lista_nums:\n",
    "    total *= numero\n",
    "print(total)"
   ]
  },
  {
   "cell_type": "code",
   "execution_count": 28,
   "id": "5ea220bc",
   "metadata": {},
   "outputs": [
    {
     "data": {
      "text/plain": [
       "560"
      ]
     },
     "execution_count": 28,
     "metadata": {},
     "output_type": "execute_result"
    }
   ],
   "source": [
    "# ejercicio con reduce()\n",
    "\n",
    "from functools import reduce\n",
    "\n",
    "def producto(a, b):\n",
    "    return a * b\n",
    "\n",
    "lista_num = [5,2,7,8]\n",
    "\n",
    "reduce(producto, lista_num)"
   ]
  },
  {
   "cell_type": "code",
   "execution_count": 55,
   "id": "951fcde4",
   "metadata": {},
   "outputs": [
    {
     "name": "stdout",
     "output_type": "stream",
     "text": [
      "['Hola', 'Perro', 1, 45, 'Ebac', 'Raul', 7]\n"
     ]
    }
   ],
   "source": [
    "# ejercicio 4 sin filter\n",
    "\n",
    "def extract_num_mayu(listado):\n",
    "    num_mayus = []\n",
    "    for elemento in listado:\n",
    "        if isinstance(elemento, str) and elemento[0].isupper():\n",
    "            num_mayus.append(elemento)\n",
    "        elif isinstance(elemento, int):\n",
    "            num_mayus.append(elemento)\n",
    "    return num_mayus\n",
    "\n",
    "palabras = ['tv','flor','Hola', 'Perro', 1, 45, 'Ebac', 'juego','fruta','Raul',7,'mesa']\n",
    "resultado = extract_num_mayu(palabras)\n",
    "print(resultado)"
   ]
  },
  {
   "cell_type": "code",
   "execution_count": 59,
   "id": "d51ccb49",
   "metadata": {},
   "outputs": [
    {
     "data": {
      "text/plain": [
       "['Hola', 'Perro', 1, 45, 'Ebac', 'Raul', 7]"
      ]
     },
     "execution_count": 59,
     "metadata": {},
     "output_type": "execute_result"
    }
   ],
   "source": [
    "# ejercicio usando filter\n",
    "\n",
    "palabras = ['tv','flor','Hola', 'Perro', 1, 45, 'Ebac', 'juego','fruta','Raul',7,'mesa']\n",
    "\n",
    "extraer = list(filter(lambda x: (isinstance(x, str) and x[0].isupper()) or isinstance(x, int), palabras))\n",
    "extraer"
   ]
  },
  {
   "cell_type": "code",
   "execution_count": null,
   "id": "7d92be5a",
   "metadata": {},
   "outputs": [],
   "source": []
  }
 ],
 "metadata": {
  "kernelspec": {
   "display_name": "Python 3 (ipykernel)",
   "language": "python",
   "name": "python3"
  },
  "language_info": {
   "codemirror_mode": {
    "name": "ipython",
    "version": 3
   },
   "file_extension": ".py",
   "mimetype": "text/x-python",
   "name": "python",
   "nbconvert_exporter": "python",
   "pygments_lexer": "ipython3",
   "version": "3.11.5"
  }
 },
 "nbformat": 4,
 "nbformat_minor": 5
}
